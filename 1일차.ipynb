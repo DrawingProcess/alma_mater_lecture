{
  "cells": [
    {
      "cell_type": "markdown",
      "metadata": {
        "colab_type": "text",
        "id": "view-in-github"
      },
      "source": [
        "<a href=\"https://colab.research.google.com/github/cksdlakstp12/alma_mater_lecture/blob/main/1%EC%9D%BC%EC%B0%A8.ipynb\" target=\"_parent\"><img src=\"https://colab.research.google.com/assets/colab-badge.svg\" alt=\"Open In Colab\"/></a>"
      ]
    },
    {
      "cell_type": "markdown",
      "metadata": {
        "id": "9ojoBO6CTAZ9"
      },
      "source": [
        "# 1. 변수"
      ]
    },
    {
      "cell_type": "markdown",
      "metadata": {
        "id": "tp8eGoqFT81g"
      },
      "source": [
        "## 1-1. 변수란 무엇일까?"
      ]
    },
    {
      "cell_type": "markdown",
      "metadata": {
        "id": "sP744Tz3W3u8"
      },
      "source": [
        "수학에서의 변수는 어떠한 수(정수, 실수 ...)가 대입될 수 있는 어떠한 '비어있는 값'이라고 볼 수 있다.\n",
        "\n",
        "우리는 지금까지 $y=x^2+x+1$등의 꼴에서 $x$와 $y$를 변수라고 부르며 사용하는 중이다.\n",
        "\n",
        "프로그래밍에서도 비슷하게 '비어있는 값'으로 사용되지만, 대입할 수 있는 값이 숫자 뿐만 아니라 문자 또는 함수 등등이 될 수 있다.\n",
        "\n",
        "어렵다면 일단 수학이랑 비슷하게 어떠한 값을 담는 비어있는 어떤 것이라고 생각하면 된다."
      ]
    },
    {
      "cell_type": "code",
      "execution_count": null,
      "metadata": {
        "id": "bZqMZGCRS5QG"
      },
      "outputs": [],
      "source": [
        "x = 1          # 정수 1을 x라는 변수에 담을 수 있다.\n",
        "y = 5.4        # 실수 5.4를 y라는 변수에 담을 수 있다.\n",
        "z = \"안녕?\"    # 문자 \"안녕?\"을 z라는 변수에 담을 수 있다."
      ]
    },
    {
      "cell_type": "markdown",
      "metadata": {
        "id": "4lz8tsqRV3Y8"
      },
      "source": [
        "## 1-2. 변수를 만드는 방법\n",
        "\n"
      ]
    },
    {
      "cell_type": "markdown",
      "metadata": {
        "id": "hodKTRWFW5fn"
      },
      "source": [
        "파이썬에서 변수는 방법은 위에서 본 것처럼 간단하게 영어와 숫자를 섞어서 이름을 지은 뒤 할당 연산자라고 불리는 '='을 사용해 대입하고 싶은 값을 뒤에 적어주면 변수를 만듦과 동시에 값을 넣을 수 있다.\n",
        "\n",
        "여기서 중요한 것은 변수의 이름을 지을 때는 변수 이름의 맨 앞에 숫자가 올 수 없으며, 사용할 수 있는 특수 기호는 오직 언더바 '_' 뿐이다."
      ]
    },
    {
      "cell_type": "markdown",
      "metadata": {
        "id": "SoZniTVfXODM"
      },
      "source": [
        "아래는 변수를 제대로 선언한 예시이다. 변수의 이름을 왼쪽, 할당 연산자를 중간에 두고 대입하려는 값을 오른쪽에 둔다."
      ]
    },
    {
      "cell_type": "code",
      "execution_count": null,
      "metadata": {
        "id": "eR475YdZV3rL"
      },
      "outputs": [],
      "source": [
        "xyz = 123\n",
        "real_number = 5.1234\n",
        "korean_hello = \"안녕\"\n",
        "game_i_like = \"리그오브레전드\""
      ]
    },
    {
      "cell_type": "markdown",
      "metadata": {
        "id": "7j3RygXLW7H9"
      },
      "source": [
        "아래는 변수를 잘못 선언한 예시이다. 실행을 하면 에러가 나는 것이 맞다."
      ]
    },
    {
      "cell_type": "code",
      "execution_count": null,
      "metadata": {
        "id": "4O0ZLySgXkJA"
      },
      "outputs": [],
      "source": [
        "1x = 1234\n",
        "???? = \"what?\"\n",
        "123456 = \"xyz\""
      ]
    },
    {
      "cell_type": "markdown",
      "metadata": {
        "id": "qLQD1DJ0XjbH"
      },
      "source": [
        "## 1-3. 실습\n",
        "\n",
        "\n",
        "1.   숫자 1을 담는 변수 x를 선언하세요.\n",
        "2.   숫자 1.234을 담는 변수 y를 선언하세요.\n",
        "3.   문자 \"안녕\"을 담는 변수 hello를 선언하세요"
      ]
    },
    {
      "cell_type": "code",
      "execution_count": null,
      "metadata": {
        "id": "R02K442uYPgh"
      },
      "outputs": [],
      "source": []
    },
    {
      "cell_type": "markdown",
      "metadata": {
        "id": "IjvqGnCnYpW5"
      },
      "source": [
        "# 2. 변수의 종류"
      ]
    },
    {
      "cell_type": "markdown",
      "metadata": {
        "id": "JOSM2QTaz7GJ"
      },
      "source": [
        "## 2-1. 정수, 실수, 문자, 문자열\n",
        "\n",
        "변수는 다양한 형태의 값을 담을 수 있지만 대표적으로 정수, 실수, 문자 그리고 문자열이 있다.\n",
        "\n",
        "정수는 우리가 알듯 1, 100, 15 등의 수학에서의 정수를 의미하며, 실수 또한 수학에서의 1.2, 3.14 등의 실수를 의미한다.\n",
        "\n",
        "문자의 경우 'a', 'b', 'c' 등의 단 하나의 문자로 이루어진 값을 의미하며, 문자열의 경우 문자를 나열한 것 즉, \"abcde\", \"리그오브레전드\", \"문산수억고등학교\" 등 문자가 합쳐져 이어진 형태의 값을 의미한다.\n",
        "\n",
        "변수는 다양한 종류의 형태가 있지만 대표적으로 위 4개가 있다."
      ]
    },
    {
      "cell_type": "markdown",
      "metadata": {
        "id": "GjpD3LTw01mN"
      },
      "source": [
        "## 2-2. 정수, 실수, 문자, 문자열 변수의 선언"
      ]
    },
    {
      "cell_type": "code",
      "execution_count": null,
      "metadata": {
        "id": "FG1wGw7h0zVx"
      },
      "outputs": [],
      "source": [
        "a = 1 # 정수형 변수\n",
        "b = 1.2 # 실수형 변수\n",
        "c = 'a' # 문자형 변수\n",
        "d = \"이찬은 파이썬을 잘하는 척 한다.\" # 문자열"
      ]
    },
    {
      "cell_type": "markdown",
      "metadata": {
        "id": "SxajuwUt2Iog"
      },
      "source": [
        "## 2-3. boolean\n",
        "\n",
        "다소 생소한 형태의 변수형이다. 참(True) 또는 거짓(False) 값을 가지는데 이는 후에 조건문(if)를 배울 때 중요하므로 알아두자."
      ]
    },
    {
      "cell_type": "code",
      "execution_count": null,
      "metadata": {
        "id": "DZwGPvpE2bkw"
      },
      "outputs": [],
      "source": [
        "a = True  # 참\n",
        "b = False # 거짓"
      ]
    },
    {
      "cell_type": "markdown",
      "metadata": {
        "id": "WhHASXNg1avR"
      },
      "source": [
        "# 3. 값 출력해보기\n"
      ]
    },
    {
      "cell_type": "markdown",
      "metadata": {
        "id": "tkxkZfbi1hHI"
      },
      "source": [
        "## 3-1. print() 함수\n",
        "\n",
        "print() 함수는 우리가 선언한 변수안에 있는 값을 출력해주는 기능을 한다. 변수에 있는 값을 확인하기 위해서 주로 사용한다."
      ]
    },
    {
      "cell_type": "code",
      "execution_count": null,
      "metadata": {
        "id": "WvYzcTi_1xSs"
      },
      "outputs": [],
      "source": [
        "a = 100\n",
        "print(a)"
      ]
    },
    {
      "cell_type": "markdown",
      "metadata": {
        "id": "pNzP9fRx11Ni"
      },
      "source": [
        "## 3-2. 실습\n",
        "\n",
        "자신의 이름을 담은 문자열을 만든 다음 출력하세요."
      ]
    },
    {
      "cell_type": "code",
      "execution_count": null,
      "metadata": {
        "id": "NZ4lHzdb2EaI"
      },
      "outputs": [],
      "source": []
    },
    {
      "cell_type": "markdown",
      "metadata": {
        "id": "pW6i0RB-3PWh"
      },
      "source": [
        "# 4. 연산 기호"
      ]
    },
    {
      "cell_type": "markdown",
      "metadata": {
        "id": "T54tLJaK3SCe"
      },
      "source": [
        "## 4-1. 사용가능한 연산들\n",
        "\n",
        "우리가 사용하는 기본적인 사칙연산인 $+, -, \\div, \\times$을 사용가능하며, 더 세분화해서 보면 나머지 연산, 몫연산, 거듭제곱 연산 등을 지원한다. 아래의 그림을 보면 파이썬에서 사용가능한 연산들이 있다.\n",
        "\n",
        "<img src = \"https://blog.kakaocdn.net/dn/cQ6AMe/btrC8SX8e4O/TF1p30lQBsCGK6m4W0P0XK/img.png\">"
      ]
    },
    {
      "cell_type": "markdown",
      "metadata": {
        "id": "ZlrWkx8O40iD"
      },
      "source": [
        "## 4-2. 사칙 연산 사용해보기\n",
        "\n",
        "위의 표를 보면서 사칙 연산에 사용되는 연산들을 사용해보자."
      ]
    },
    {
      "cell_type": "code",
      "execution_count": null,
      "metadata": {
        "id": "CNg0azum6x4d"
      },
      "outputs": [],
      "source": [
        "# 더하기\n",
        "a = 1 + 3\n",
        "print(a)"
      ]
    },
    {
      "cell_type": "code",
      "execution_count": null,
      "metadata": {
        "id": "rWIoz7Bm62w1"
      },
      "outputs": [],
      "source": [
        "# 빼기\n",
        "b = 5 - 3\n",
        "print(b)"
      ]
    },
    {
      "cell_type": "code",
      "execution_count": null,
      "metadata": {
        "id": "dGCFG1HV62us"
      },
      "outputs": [],
      "source": [
        "# 곱하기\n",
        "c = 3 * 2\n",
        "print(c)"
      ]
    },
    {
      "cell_type": "code",
      "execution_count": null,
      "metadata": {
        "id": "Xdj3s4B062sb"
      },
      "outputs": [],
      "source": [
        "# 나누기\n",
        "d = 5 / 2\n",
        "print(d)"
      ]
    },
    {
      "cell_type": "code",
      "execution_count": null,
      "metadata": {
        "id": "dVFalinO7BIo"
      },
      "outputs": [],
      "source": [
        "# 몫 연산\n",
        "e = 5 // 2\n",
        "print(e)"
      ]
    },
    {
      "cell_type": "code",
      "execution_count": null,
      "metadata": {
        "id": "oTF36u7C7A_V"
      },
      "outputs": [],
      "source": [
        "# 나머지 연산\n",
        "f = 5 % 2\n",
        "print(f)"
      ]
    },
    {
      "cell_type": "code",
      "execution_count": null,
      "metadata": {
        "id": "GXASyG-C62f_"
      },
      "outputs": [],
      "source": [
        "# 거듭제곱 연산\n",
        "g = 2 ** 3\n",
        "print(g)"
      ]
    },
    {
      "cell_type": "markdown",
      "metadata": {
        "id": "L7wSWNHd40hC"
      },
      "source": [
        "## 4-3. 논리 연산 사용해보기\n",
        "\n",
        "말장난 같지만 논리 연산을 통해서 논리를 따질 수 있다. 예를 들어 '15가 10보다 큰가?'라는 논리가 참(True)인 것을 알 수 있듯 이를 코드로 적용할 수 있다. 논리 연산의 값은 참(True) 또는 거짓(False)로 나타난다. 아래의 예시들을 통해서 논리 연산을 공부해보자."
      ]
    },
    {
      "cell_type": "code",
      "execution_count": null,
      "metadata": {
        "id": "XuGH1-_N6yZo"
      },
      "outputs": [],
      "source": [
        "a = 15\n",
        "b = 10\n",
        "print(a > b) # a가 b보다 큰가\n",
        "print(a < b) # a가 b보다 작은가"
      ]
    },
    {
      "cell_type": "code",
      "execution_count": null,
      "metadata": {
        "id": "eqwBBmRFAe3m"
      },
      "outputs": [],
      "source": [
        "a = 10\n",
        "b = 10\n",
        "print(a >= b) # a가 b보다 크거나 같은가\n",
        "print(a == b) # a와 b가 같은가\n",
        "print(a != b) # a와 b가 다른가\n",
        "print(a <= b) # a가 b보다 작거나 같은가"
      ]
    },
    {
      "cell_type": "code",
      "execution_count": null,
      "metadata": {
        "id": "Lx6P2tJ2Ae1J"
      },
      "outputs": [],
      "source": [
        "a = \"이찬\"\n",
        "b = \"김찬\"\n",
        "print(a == b) # a와 b가 같은가\n",
        "print(a != b) # a와 b가 다른가"
      ]
    },
    {
      "cell_type": "code",
      "execution_count": null,
      "metadata": {
        "id": "5F7Wr3k4AdzT"
      },
      "outputs": [],
      "source": [
        "a = \"이찬\"\n",
        "b = \"김찬\"\n",
        "c = 10\n",
        "d = 10\n",
        "print(a == b and c == d) # a와 b가 '같고' c와 d가 같은가\n",
        "print(a == b or c == d) # a와 b가 '같거나' c와 d가 같은가"
      ]
    },
    {
      "cell_type": "code",
      "execution_count": null,
      "metadata": {
        "id": "Dlb9c_n4BmYM"
      },
      "outputs": [],
      "source": [
        "a = True\n",
        "b = False\n",
        "print(not a)\n",
        "print(not b)"
      ]
    },
    {
      "cell_type": "markdown",
      "metadata": {
        "id": "kChT4GkaBBGr"
      },
      "source": [
        "# 5. 자료 구조"
      ]
    },
    {
      "cell_type": "markdown",
      "metadata": {
        "id": "wnBqvB3RBD4x"
      },
      "source": [
        "## 5-1. list(리스트)\n",
        "\n",
        "리스트는 여러값들을 하나의 변수에 담을 수 있는 자료 구조이다. 파이썬에서는 원하는 모든 값(정수, 실수, 문자, 문자열 등등 상관없이)을 전부 담을 수 있으며, 아래의 그림과 같이 선언이 가능하다. 리스트 내의 값에 접근하기 위해서는 대괄호안에 숫자를 넣어야하는데, 이 숫자를 인덱스라고 한다. 프로그래밍의 모든 자료 구조는 인덱스가 0부터 시작한다. 즉, 리스트의 첫번째 값에 접근하려면 인덱스를 0으로 해야 한다는 의미이다.\n",
        "\n",
        "<img src=\"https://dojang.io/pluginfile.php/8957/mod_page/content/3/022001.png\" width=600 height=400>"
      ]
    },
    {
      "cell_type": "code",
      "execution_count": null,
      "metadata": {
        "id": "FDdIdm7rDAwV"
      },
      "outputs": [],
      "source": [
        "a = [1, 2, 3, 4, 5]\n",
        "print(a) # 리스트 전체 출력\n",
        "print(a[0], a[1]) # 리스트의 첫 번째 값과 두 번째 값을 출력"
      ]
    },
    {
      "cell_type": "markdown",
      "metadata": {
        "id": "PeiD-pXFNOIX"
      },
      "source": [
        "리스트는 slicing(슬라이싱)이라는 기능을 제공해, 인덱스 0에서부터 인덱스 4번째 값 전부에 접근하는 동작을 할 수 있다. 이는 리스트뿐만 아니라 문자열에서도 가능한 동작이다.\n",
        "\n",
        "<img src=\"data:image/png;base64,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\">"
      ]
    },
    {
      "cell_type": "code",
      "execution_count": null,
      "metadata": {
        "id": "4799mUWfNN4f"
      },
      "outputs": [],
      "source": [
        "a = [1, 2, 3, 4, 5]\n",
        "print(a[3:])\n",
        "print(a[:3])\n",
        "print(a[1:4])\n",
        "\n",
        "b = \"리그오브레전드\"\n",
        "print(b[3:])\n",
        "print(b[:3])\n",
        "print(b[1:4])"
      ]
    },
    {
      "cell_type": "markdown",
      "metadata": {
        "id": "pe1_KkcRLkqr"
      },
      "source": [
        "리스트 자료 구조는 다양한 동작을 할 수 있는데, 아래는 자주 사용되는 대표적인 동작 4개를 소개한다.\n",
        "\n",
        "\n",
        "1.   append() : 리스트의 맨 뒤에 값을 추가한다.\n",
        "2.   sort() : 리스트의 값들을 순서대로 정렬한다.\n",
        "3.   reverse() : 현재 리스트 내의 값들의 순서를 뒤집는다.\n",
        "4.   index() : 찾고자 하는 값이 리스트에 있다면, 그 값의 인덱스(위치)를 알려준다.\n",
        "\n"
      ]
    },
    {
      "cell_type": "code",
      "execution_count": null,
      "metadata": {
        "id": "ZGhWN3r7L1Ma"
      },
      "outputs": [],
      "source": [
        "a = [3, 2, 5, 4, 1]\n",
        "\n",
        "a.append(6)\n",
        "print(a)\n",
        "\n",
        "a.sort()\n",
        "print(a)\n",
        "\n",
        "a.reverse()\n",
        "print(a)\n",
        "\n",
        "b = a.index(1)\n",
        "print(b)"
      ]
    },
    {
      "cell_type": "markdown",
      "metadata": {
        "id": "Kpc36fbeDAKE"
      },
      "source": [
        "## 5-2. set(집합)\n",
        "\n",
        "수학에서의 집합과 같은 의미의 자료구조로 중복되는 값들을 자동으로 없애준다. 중괄호를 통해 선언 가능하다. 집합 자료 구조는 값을 추가하기 위해 add() 함수를, 값을 제거하기 위해 remove() 함수를 사용하면 된다. 교집합, 합집합, 차집합 등의 다양한 연산 또한 가능하다."
      ]
    },
    {
      "cell_type": "code",
      "execution_count": null,
      "metadata": {
        "id": "IRwsbfXmDA-T"
      },
      "outputs": [],
      "source": [
        "a = {1, 2, 3, 4, 3, 3, 4, 5}\n",
        "print(a)\n",
        "\n",
        "a.add(6)\n",
        "print(a)\n",
        "\n",
        "a.remove(2)\n",
        "print(a)"
      ]
    },
    {
      "cell_type": "code",
      "execution_count": null,
      "metadata": {
        "id": "_RQg7tlFkkBO"
      },
      "outputs": [],
      "source": [
        "a = {0, 1, 2, 3, 4, 5, 6}\n",
        "b = {3, 4, 5, 6 ,7, 8, 9}\n",
        "print(a.intersection(b)) # 교집합\n",
        "print(a.union(b))        # 합집합\n",
        "print(a.difference(b))   # 차집합 (a - b)\n",
        "print(b.difference(a))   # 차집합 (b - a)"
      ]
    },
    {
      "cell_type": "markdown",
      "metadata": {
        "id": "x8lgK9atDAhn"
      },
      "source": [
        "## 5-3. dictionary(사전)\n",
        "\n",
        "일단 영어 사전을 생각해보자. 영어 사전은 영단어가 있고 그에 대응되는 번역이 존재한다. 이처럼 dictionary 자료 구조는 하나의 key값과 그에 대응되는 value값이 있다. 집합 자료 구조와 같이 중괄호로 선언하지만, key 값과 value 값이 대응되게 존재하도록 값을 채워야한다는 차이점이 있다. 값을 확인하기 위해서 여기서는 인덱스가 아닌 key값을 대괄호에 넣어 대응되는 값에 접근한다.\n",
        "\n",
        "<img src=\"https://encrypted-tbn0.gstatic.com/images?q=tbn:ANd9GcQwWqy7OZRoQYgH0FRpXBXK6WFwUr4D2PdeZw&usqp=CAU\" width=600>"
      ]
    },
    {
      "cell_type": "code",
      "execution_count": null,
      "metadata": {
        "id": "dJCTS02XDBjb"
      },
      "outputs": [],
      "source": [
        "a = {\"key\":\"value\", 100:2, \"list\":[1,2,3,4], \"장충동\":\"왕족발보쌈\"}\n",
        "print(a[\"key\"])\n",
        "print(a[100])\n",
        "print(a[\"list\"])\n",
        "print(a[\"장충동\"])"
      ]
    },
    {
      "cell_type": "markdown",
      "metadata": {
        "id": "27d-fUl6nU1Z"
      },
      "source": [
        "## 5-4. in 연산자\n",
        "\n",
        "대부분의 자료 구조는 in 연산자를 사용할 수 있다. in 연산자는 찾고자하는 값이 자료 구조에 존재하는지 확인할 때 사용하는 연산자이다. 찾고자 하는 값이 자료 구조 내에 존재하면 참(True), 없으면 거짓(False)값이 나온다. 여기서 주의점은 dictionary 자료 구조에서는 in 연산자 사용시 key값에서 찾고자 하는 값을 찾는다. 사용시 찾고자 하는 값을 in 연산자 왼쪽에, 검색을 수행할 자료 구조를 오른쪽에 두면 된다."
      ]
    },
    {
      "cell_type": "code",
      "execution_count": null,
      "metadata": {
        "id": "5CWwzGvNnVHe"
      },
      "outputs": [],
      "source": [
        "a = [1, 2, 3, 4, 5]\n",
        "print(3 in a)\n",
        "print(6 in a)\n",
        "\n",
        "b = {1, 2, 3, 4, 4, 4, 5, 3}\n",
        "print(3 in b)\n",
        "\n",
        "c = {1:\"Seek\", 2:\"Life\", 3:\"Shall\", 4:\"Die\"}\n",
        "print(1 in c)\n",
        "print(\"Seek\" in c)"
      ]
    },
    {
      "cell_type": "markdown",
      "metadata": {
        "id": "NATAmrIS2FB9"
      },
      "source": [
        "# 6. 파이썬 문법\n"
      ]
    },
    {
      "cell_type": "markdown",
      "metadata": {
        "id": "cD2PtftP2uXW"
      },
      "source": [
        "## 6-1. if문\n",
        "\n",
        "if문이란 번역 그대로 '만약에 000라면'의 뜻으로 000라는 조건이 참인 경우에 원하는 동작을 수행하도록 하는 문법이다. 기본적인 사용법은 아래와 같다."
      ]
    },
    {
      "cell_type": "code",
      "execution_count": null,
      "metadata": {
        "id": "nA3VokF22wj2"
      },
      "outputs": [],
      "source": [
        "a = 10\n",
        "if a == 10:\n",
        "  print(\"a는 10입니다.\")"
      ]
    },
    {
      "cell_type": "code",
      "execution_count": null,
      "metadata": {
        "id": "VmDpoPEIv0Gr"
      },
      "outputs": [],
      "source": [
        "a = 10\n",
        "if a == 10:\n",
        "  print(\"a는 10입니다.\")\n",
        "elif a == 100:\n",
        "  print(\"a는 100입니다.\")\n",
        "else:\n",
        "  print(\"10도 100도 아닌 그 외의 값입니다.\")"
      ]
    },
    {
      "cell_type": "code",
      "execution_count": null,
      "metadata": {
        "id": "QIlXy5hLxl-e"
      },
      "outputs": [],
      "source": [
        "a = [1, 2, 3, 4, 5]\n",
        "if 3 in a:\n",
        "  print(\"a에 3이 존재합니다.\")\n",
        "elif 6 in a:\n",
        "  print(\"a에 3은 없지만 6은 존재합니다.\")\n",
        "else:\n",
        "  print(\"a에 3도 6도 존재하지 않습니다.\")"
      ]
    },
    {
      "cell_type": "markdown",
      "metadata": {
        "id": "qdzrrwUWv01B"
      },
      "source": [
        "## 6-2. if문 실습"
      ]
    },
    {
      "cell_type": "markdown",
      "metadata": {
        "id": "weeNldInx7Cr"
      },
      "source": [
        "a에는 1,2,3,4,5 값이 존재합니다. a를 선언한 후 a에 6을 추가하고 만약 6이 a에 존재한다면, \"6이 존재합니다.\"라는 문자열을 출력하세요. 다만 6은 없지만 7이 존재한다면 \"7이 존재합니다.\"라는 문자열을 출력하세요. 마지막으로 6과 7 모두 존재하지 않는 경우를 위해서 \"모두 존재하지 않습니다.\"라는 문자열을 출력할 수 있도록 코드를 짜세요."
      ]
    },
    {
      "cell_type": "code",
      "execution_count": null,
      "metadata": {
        "id": "orsACDepxhX-"
      },
      "outputs": [],
      "source": []
    },
    {
      "cell_type": "markdown",
      "metadata": {
        "id": "B1XKIt6uxg7w"
      },
      "source": [
        "## 6-3. for문\n",
        "\n",
        "for문의 경우 반복을 위해서 사용하는 문법이다. 기본적인 사용법은 'for x in list'로 리스트의 앞에서부터 값을 하나씩 가져와 x에 할당시킨다."
      ]
    },
    {
      "cell_type": "code",
      "execution_count": null,
      "metadata": {
        "id": "UZdYbU1ocB6U"
      },
      "outputs": [],
      "source": [
        "numbers = [0, 1, 2, 3, 4]\n",
        "for n in numbers:\n",
        "  print(n)"
      ]
    },
    {
      "cell_type": "markdown",
      "metadata": {
        "id": "oxaJoyizxJO_"
      },
      "source": [
        "## 6-4. range() 함수\n",
        "\n",
        "for문을 쓸 때는 간단하게 range() 함수를 써서 정수 리스트를 대신할 수 있다. range() 함수의 소괄호안에 숫자 n을 입력하면 [0, n-1] 범위의 정수를 순서대로 담은 리스트 대용으로 사용가능한 자료 구조를 만들어준다."
      ]
    },
    {
      "cell_type": "code",
      "execution_count": null,
      "metadata": {
        "id": "OEVIVKwGc2wA"
      },
      "outputs": [],
      "source": [
        "for n in range(5): # [0, 5-1]범위의 정수값을 담은 리스트를 생성\n",
        "  print(n)"
      ]
    },
    {
      "cell_type": "markdown",
      "metadata": {
        "id": "hB61nkyZyqcp"
      },
      "source": [
        "## 6-5. while문\n",
        "\n",
        "while문 역시 반복을 위해서 존재하는 문법이다. for문과의 차이점은 for문은 리스트에서 값을 하나씩 가져와 마지막 원소를 가져온 후 반복이 끝난다면, while 문은 어떠한 조건이 만족하면 계속해서 반복을 수행한다."
      ]
    },
    {
      "cell_type": "code",
      "execution_count": null,
      "metadata": {
        "id": "CMEzyGUPdlu7"
      },
      "outputs": [],
      "source": [
        "index = 0\n",
        "while index < 5:\n",
        "  print(index)\n",
        "  index = index + 1"
      ]
    },
    {
      "cell_type": "markdown",
      "metadata": {
        "id": "fmSy77Fhv0ob"
      },
      "source": [
        "## 6-6. 무한 반복 while문\n",
        "\n",
        "while문은 어떤 조건이 만족한다면 계속해서 반복한다. 그럼 그 조건이 절대 끝나지 않도록 할 수 있지 않을까? 물론 가능하며 많은 프로그램에서 이를 응용중이다. 아래가 무한 반복 while문의 예시다."
      ]
    },
    {
      "cell_type": "code",
      "execution_count": null,
      "metadata": {
        "id": "PI8rZvO0fehh"
      },
      "outputs": [],
      "source": [
        "while True:\n",
        "  print(\"무한 반복 중입니다.\")"
      ]
    },
    {
      "cell_type": "markdown",
      "metadata": {
        "id": "B8HLthM2ytFd"
      },
      "source": [
        "## 6-7. break\n",
        "\n",
        "근데 진짜로 컴퓨터가 꺼지지 않는 이상 무한하게 프로그램이 돌아갈텐데 이상한 느낌이 든다. 뭔가 다른 작업을 못하게 될거 같고 무한 반복을 종료할 방법은 없는지 궁금하다. break를 사용하면 무한 반복문 뿐만 아니라 다른 모든 반복문도 동작 중간에 종료할 수 있다."
      ]
    },
    {
      "cell_type": "code",
      "execution_count": null,
      "metadata": {
        "id": "4tQr0BgW7Bb_"
      },
      "outputs": [],
      "source": [
        "while True:\n",
        "  print(\"무한 반복\")\n",
        "  break"
      ]
    },
    {
      "cell_type": "markdown",
      "metadata": {
        "id": "YqKlR3nMyxTR"
      },
      "source": [
        "근데 이렇게 사용하면 1번만 반복하고(사실상 반복하지 않고) 종료되므로 if문을 이용해 특정 조건을 만족하면 break하도록 하면 더욱 완성도 있게 코딩할 수 있다."
      ]
    },
    {
      "cell_type": "code",
      "execution_count": null,
      "metadata": {
        "id": "NCtpduKj7Tn1"
      },
      "outputs": [],
      "source": [
        "index = 0\n",
        "while True:\n",
        "  print(\"무한 반복\")\n",
        "  if index > 10:\n",
        "    break"
      ]
    },
    {
      "cell_type": "markdown",
      "metadata": {
        "id": "d1AMN6HQ7tU5"
      },
      "source": [
        "여기서 살짝 의문이 드는게 for문이랑 while문 왜 2개나 반복문이 있나 궁금할 텐데, 솔직하게 취향이다. 굳이 용도로 나누자면 for문은 리스트 등의 요소를 반복할 때, while은 주로 무한 반복을 할 때 사용한다.(매우 주관적인 구분)"
      ]
    },
    {
      "cell_type": "markdown",
      "metadata": {
        "id": "79QWXc_9dlDZ"
      },
      "source": [
        "## 6-8. continue\n",
        "\n",
        "break는 중간에 반복문을 탈출하는 개념이라면, continue는 반복문을 계속 반복하지만 더이상 코드를 진행하지 않고 다음 반복이 진행되도록 한다."
      ]
    },
    {
      "cell_type": "code",
      "execution_count": null,
      "metadata": {
        "id": "2GQhRb4l8TPy"
      },
      "outputs": [],
      "source": [
        "for i in range(5):\n",
        "  print(i)\n",
        "  continue\n",
        "  print(\"continue를 사용하면 이후 코드를 건너 뛰고 다음 반복으로 갑니다.\")"
      ]
    },
    {
      "cell_type": "markdown",
      "metadata": {
        "id": "vT2ksw-J8t8t"
      },
      "source": [
        "continue는 나름 유용한데 다음과 같이 리스트에서 작업을 건너뛰고 싶은 요소가 있을 경우 아래처럼 코딩할 수 있다."
      ]
    },
    {
      "cell_type": "code",
      "execution_count": null,
      "metadata": {
        "id": "toVtfI4E8thR"
      },
      "outputs": [],
      "source": [
        "sosu = [2, 3, 5 ,7, 11, 13, 17, 19] # 영어로 소수가 뭔지 몰라서 그런건 아니고..\n",
        "for s in sosu:\n",
        "  if s < 10:\n",
        "    continue\n",
        "  print(s)"
      ]
    },
    {
      "cell_type": "markdown",
      "metadata": {
        "id": "KfoDDtmbdlCm"
      },
      "source": [
        "## 6-8. 실습(난이도 상)\n",
        "\n",
        "어떤 함수를 이용해서 [0, 99] 범위의 반복을 가능하도록 하세요. 이 범위의 값을들 하나씩 가져와 만약 짝수라면 출력하고 아니라면 그냥 넘어가도록 코드를 짜세요."
      ]
    },
    {
      "cell_type": "code",
      "execution_count": null,
      "metadata": {
        "id": "n2IkzyWe9q8F"
      },
      "outputs": [],
      "source": []
    },
    {
      "cell_type": "markdown",
      "metadata": {
        "id": "alRCbqjgBUL1"
      },
      "source": [
        "# 7. 함수"
      ]
    },
    {
      "cell_type": "markdown",
      "metadata": {
        "id": "NjCaZdoWBc55"
      },
      "source": [
        "수학에서의 함수를 다시 생각해보자. f(x)를 주로 떠올릴 것같다. 여기서 함수의 이름은 f이고 이 함수가 필요로 하는 값을 x로 받아온다. 즉, x를 입력으로 받아 어떤 행동을 하고, 결과값을 반환해주는 기능을 한다는 것이다. 이 특징이 파이썬의 함수에서도 그대로 적용된다. 함수의 이름을 정해 함수를 정의하고 입력으로 받을 변수들을 설정한 다음 함수가 할 기능을 적고 결과값을 반환하도록 한다.\n",
        "\n",
        "<img src=\"data:image/png;base64,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\">"
      ]
    },
    {
      "cell_type": "markdown",
      "metadata": {
        "id": "xCLtG1kIMzfB"
      },
      "source": [
        "아래는 $f(x)=x^2+x+1$을 코드로 표현한 것이다."
      ]
    },
    {
      "cell_type": "code",
      "execution_count": null,
      "metadata": {
        "id": "-K6Q5mIVBh4U"
      },
      "outputs": [],
      "source": [
        "def function(x): # 함수의 이름을 function이라고 정의하고 이 함수는 x라는 변수를 입력으로 받아야 동작함\n",
        "  y = x ** 2 + x + 1 # 함수 내의 동작\n",
        "  return y # 값을 반환"
      ]
    },
    {
      "cell_type": "markdown",
      "metadata": {
        "id": "eAld7wgoBhwP"
      },
      "source": [
        "여기서 수학에서의 함수와는 다르게 프로그래밍에서의 함수는 숫자만 다루는 것이 아닌 어떤 특정 동작을 하도록 하는 코드의 덩어리라고 생각하면 편하다. 다음과 같이 입력을 여러개 받을 수 있으며 반환하는 값도 여러개가 될 수 있다. 함수의 이름도 기능의 특성에 따라 마음대로 지을 수 있다. 그리고 반환값이 아예 없이 그저 특정 동작만 하도록 할 수도 있다."
      ]
    },
    {
      "cell_type": "code",
      "execution_count": null,
      "metadata": {
        "id": "34ytn4VTPTL_"
      },
      "outputs": [],
      "source": [
        "def drone(direction, speed):\n",
        "  next_position = direction * speed\n",
        "  next_speed = speed + 1\n",
        "  return next_position, next_speed"
      ]
    },
    {
      "cell_type": "code",
      "execution_count": null,
      "metadata": {
        "id": "we-RMXDRBhoh"
      },
      "outputs": [],
      "source": [
        "def game(name, intro, price):\n",
        "  if price > 10000:\n",
        "    print(name)\n",
        "    print(\"이 게임은 비싼 게임입니다.\")\n",
        "  else:\n",
        "    print(name)\n",
        "    print(intro)\n",
        "\n",
        "game(\"젤다의 전설\", \"초록 모자는 젤다가 아닙니다.\", \"1000\")\n",
        "game(\"슈퍼 마리오\", \"초록 모자는 젤다가 아닙니다.\", \"10000\")"
      ]
    },
    {
      "cell_type": "markdown",
      "metadata": {
        "id": "JgrDNt-mBhft"
      },
      "source": [
        "함수의 입력값은 기본값을 설정할 수 있다. 다음과 같이 기본값을 설정하면 입력값을 전달하지 않을 경우 설정한 기본값이 자동으로 사용된다."
      ]
    },
    {
      "cell_type": "code",
      "execution_count": null,
      "metadata": {
        "id": "7daO-HhCBhUd"
      },
      "outputs": [],
      "source": [
        "def shopping(money=10000):\n",
        "  if money > 10000:\n",
        "    return \"옷\"\n",
        "  elif money > 1000:\n",
        "    return \"라면\"\n",
        "  else:\n",
        "    return \"당신은 살 수 있는게 없습니다.\""
      ]
    },
    {
      "cell_type": "markdown",
      "metadata": {
        "id": "5og38ofpBV8B"
      },
      "source": [
        "# 8. 파일 입출력"
      ]
    },
    {
      "cell_type": "markdown",
      "metadata": {
        "id": "Vu3ioAQcBjCA"
      },
      "source": [
        "## 8-1. 시작전 유용한 기능들\n",
        "\n",
        "파일(예를 들어 txt파일)에 내용을 쓰려면 문자열 형태여야만 한다. 문자열을 다룰 때 편한 것들을 알려주고자 한다.\n",
        "\n",
        "str() 함수를 사용하면 정수 또는 실수를 문자열로 변환할 수 있다. 또한 문자열 formatting을 사용하면 문자열 중간에 값을 집어넣을 수 있다."
      ]
    },
    {
      "cell_type": "code",
      "execution_count": null,
      "metadata": {
        "id": "fCO1wN5WBi3r"
      },
      "outputs": [],
      "source": [
        "a = str(100)\n",
        "print(type(a))\n",
        "\n",
        "b = str(1.12345)\n",
        "print(type(b))"
      ]
    },
    {
      "cell_type": "code",
      "execution_count": null,
      "metadata": {
        "id": "PgWWogxFXHGH"
      },
      "outputs": [],
      "source": [
        "c = \"내 이름은 {}이야.\".format(\"이찬\")\n",
        "print(c)\n",
        "\n",
        "d = \"내가 좋아하는 게임은 {}이고, 주챔을 {}야.\".format(\"롤\", \"다리우스\")\n",
        "print(d)"
      ]
    },
    {
      "cell_type": "markdown",
      "metadata": {
        "id": "EShBdcwEBiuC"
      },
      "source": [
        "## 8-2. 파일 쓰기\n",
        "\n",
        "파일을 쓰기 위해서는 아래와 같이 코딩한다. 먼저 파일을 쓸 위치(저장할 위치)를 정하고 'w'라고 키워드를 줘 쓰기 모드로 파일을 연다. 후에 파일에 쓸 내용을 적고 파일을 닫으면 된다."
      ]
    },
    {
      "cell_type": "code",
      "execution_count": null,
      "metadata": {
        "id": "qV-MD0AuBiWH"
      },
      "outputs": [],
      "source": [
        "file = open(\"temp.txt\", 'w')\n",
        "file.write(\"이거보세요~~~~~~ 이렇게!!!!\")\n",
        "file.close()"
      ]
    },
    {
      "cell_type": "markdown",
      "metadata": {
        "id": "W8zbCNwOBdMJ"
      },
      "source": [
        "## 8-3. 파일 읽기\n",
        "\n",
        "파일을 읽기 위해서는 읽을 파일의 위치와 이름을 적고 'r'라고 키워드를 줘 읽기 모드로 파일을 연다. 후에 파일에 쓰여있는 내용을 읽고 파일을 닫으면 된다."
      ]
    },
    {
      "cell_type": "code",
      "execution_count": null,
      "metadata": {
        "id": "ip9kEReHBknG"
      },
      "outputs": [],
      "source": [
        "file = open(\"temp.txt\", 'r')\n",
        "line = file.readline()\n",
        "file.close()\n",
        "\n",
        "print(line)"
      ]
    },
    {
      "cell_type": "markdown",
      "metadata": {
        "id": "G8ibNiq5YXUZ"
      },
      "source": [
        "## 8-4. 자동으로 파일 닫아주도록 하는 방법\n",
        "\n",
        "실제로 기업에서 사용하는 매우 큰 프로그램의 경우 파일을 안닫는 등의 실수로 인해서 치명적인 버그가 발생할 수 있다. 따라서 파일을 꼭 닫아줘야하는데 가끔 사람의 실수로 file.close()을 안해줄 때가 있다. 이러면 매우 골치 아프므로 파이썬은 자동으로 파일을 닫아주는 기능을 제공한다."
      ]
    },
    {
      "cell_type": "code",
      "execution_count": null,
      "metadata": {
        "id": "ujArpBXgYXd5"
      },
      "outputs": [],
      "source": [
        "with open(\"temp.txt\", 'r') as file:\n",
        "  line = file.readline()\n",
        "\n",
        "print(line)"
      ]
    },
    {
      "cell_type": "markdown",
      "metadata": {
        "id": "L77PQtLTBYj5"
      },
      "source": [
        "# 9. class 찍먹해보기"
      ]
    },
    {
      "cell_type": "markdown",
      "metadata": {
        "id": "kowXYu8_BdpR"
      },
      "source": [
        "지금까지는 어찌저찌할만 한듯한 느낌이 들었을지 모르겠지만 그나마 받아들이기에는 어려움이 없었을 것이다. 하지만 class는 다르다. class는 프로그래밍 뉴비 절단기라고 볼 수 있다. 내용도 많고 알아야 하는게 많아야하며 기본적으로 이해가 어렵다. 많이 사용해봐야 드디어 감이 잡히고 짧은 시간에 이해하기가 어렵기 때문에 찍먹만 해보도록 하겠다."
      ]
    },
    {
      "cell_type": "markdown",
      "metadata": {
        "id": "NTPKcceoezBo"
      },
      "source": [
        "## 9-1. 멤버 변수\n",
        "\n",
        "클래스는 자기 자신 내부에 자신만을 위한 변수를 가지고 있다. 멤버 변수는 객체가 존재하는 한 사라지지 않는다. __init__() 메소드를 통해서 선언가능하며 self라는 키워드로 접근한다는 특징이 있다. 이 self는 객체 자기 자신을 의미한다."
      ]
    },
    {
      "cell_type": "code",
      "execution_count": null,
      "metadata": {
        "id": "6kwtlH3xePQm"
      },
      "outputs": [],
      "source": [
        "class game():\n",
        "  def __init__(self, name):\n",
        "    self.name = name"
      ]
    },
    {
      "cell_type": "markdown",
      "metadata": {
        "id": "JW-QHv5gglOc"
      },
      "source": [
        "## 9-2. 메소드\n",
        "\n",
        "메소드는 class에 정의된 함수이다. 일반적인 함수와 다르게 클래스에 선언된다는 점이 차이점이며, 멤버 변수를 사용할 수 있다는 점도 차이점이다."
      ]
    },
    {
      "cell_type": "code",
      "execution_count": null,
      "metadata": {
        "id": "eK8SW_raeP8d"
      },
      "outputs": [],
      "source": [
        "class LeagueOfLegends():\n",
        "  def __init__(self, name):\n",
        "    self.name = name\n",
        "\n",
        "  def play(self):\n",
        "    if self.name == \"페이커\":\n",
        "      return \"젠장 또 대상혁이야. 이 글만 보고 ....\"\n",
        "    elif self.name == \"이찬\":\n",
        "      return \"응 다4 예티~~\"\n",
        "    else:\n",
        "      return \"잘 모르겠네요\""
      ]
    },
    {
      "cell_type": "markdown",
      "metadata": {
        "id": "UAK7NHyTKM_6"
      },
      "source": [
        "# 10. 외부 모듈"
      ]
    },
    {
      "cell_type": "markdown",
      "metadata": {
        "id": "IXxb9OMDTcio"
      },
      "source": [
        "파이썬을 비롯한 대부분의 프로그래밍 언어는 다른 사람이 짜놓은 코드를 가져와 사용할 수 있게 되어있다. 우리가 0부터 100까지 모든 코드를 다 짜서 프로그램을 만들기에는 무리가 있기 때문에 다른 사람이 성능도 좋고 편리하게 짜놓은 코드를 가져다 쓰는게 좋다. 이렇게 다른 사람이 짜놓은 코드의 파일 등을 모듈이라고 한다."
      ]
    },
    {
      "cell_type": "code",
      "execution_count": null,
      "metadata": {
        "id": "wnckTTanKMVD"
      },
      "outputs": [],
      "source": [
        "import cv2\n",
        "import tensorflow\n",
        "import torch\n",
        "import numpy as np"
      ]
    },
    {
      "cell_type": "markdown",
      "metadata": {
        "id": "hq5bf5KEUqch"
      },
      "source": [
        "외부 모듈을 불러와서 해당 모듈에 있는 기능들을 사용하고 싶은 경우 아래와 같이 할 수 있다."
      ]
    },
    {
      "cell_type": "code",
      "execution_count": null,
      "metadata": {
        "id": "bliDyAoNUxwP"
      },
      "outputs": [],
      "source": [
        "arr = np.array([1, 2, 3, 4, 5])\n",
        "image = cv2.imread(\"path/to/image.jpg\")"
      ]
    },
    {
      "cell_type": "markdown",
      "metadata": {
        "id": "LiAv53RdT95-"
      },
      "source": [
        "만약 컴퓨터에 설치되어있지 않은 모듈의 경우 직접 다운을 받아야한다."
      ]
    },
    {
      "cell_type": "code",
      "execution_count": null,
      "metadata": {
        "id": "q-YuOBkvT9ia"
      },
      "outputs": [],
      "source": [
        "!pip install fastapi"
      ]
    },
    {
      "cell_type": "markdown",
      "metadata": {
        "id": "kY5LMt7GhKbG"
      },
      "source": [
        "# 11. 마무리\n",
        "\n",
        "여기까지가 이번 강의의 마지막이다. 솔직히 class가 제일 중요하면서 어려운데 건너 뛰어도 될까 생각이 많았지만, 최대한 내일 인공지능 기초 강의에서는 class를 쓰지 않도록 해보려 한다. 다만 멤버 변수라던가 메소드라는 단어의 의미는 알아야한다고 생각해 여기까지 만들었다. 파이썬의 기초가 더 궁금하거나 더 공부해보고 싶은 사람은 아래에 무료 파이썬 강의 링크를 두었으니 확인해보기 바란다.\n",
        "\n",
        "https://www.inflearn.com/course/%EB%82%98%EB%8F%84%EC%BD%94%EB%94%A9-%ED%8C%8C%EC%9D%B4%EC%8D%AC-%EA%B8%B0%EB%B3%B8#curriculum"
      ]
    }
  ],
  "metadata": {
    "colab": {
      "collapsed_sections": [
        "9ojoBO6CTAZ9",
        "IjvqGnCnYpW5",
        "WhHASXNg1avR",
        "pW6i0RB-3PWh",
        "kChT4GkaBBGr",
        "NATAmrIS2FB9",
        "alRCbqjgBUL1",
        "5og38ofpBV8B"
      ],
      "include_colab_link": true,
      "provenance": []
    },
    "kernelspec": {
      "display_name": "Python 3",
      "name": "python3"
    },
    "language_info": {
      "name": "python"
    }
  },
  "nbformat": 4,
  "nbformat_minor": 0
}
